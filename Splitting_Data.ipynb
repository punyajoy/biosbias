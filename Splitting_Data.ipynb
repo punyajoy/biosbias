{
 "cells": [
  {
   "cell_type": "markdown",
   "metadata": {
    "colab_type": "text",
    "id": "view-in-github"
   },
   "source": [
    "<a href=\"https://colab.research.google.com/github/punyajoy/biosbias/blob/master/GRU_implementation.ipynb\" target=\"_parent\"><img src=\"https://colab.research.google.com/assets/colab-badge.svg\" alt=\"Open In Colab\"/></a>"
   ]
  },
  {
   "cell_type": "code",
   "execution_count": 3,
   "metadata": {
    "colab": {
     "base_uri": "https://localhost:8080/",
     "height": 34
    },
    "colab_type": "code",
    "id": "Lw7ERaKJQ_Sw",
    "outputId": "66537712-fdb9-4040-ddf0-f0e5c14bb899"
   },
   "outputs": [
    {
     "name": "stdout",
     "output_type": "stream",
     "text": [
      "drive  sample_data\n"
     ]
    }
   ],
   "source": [
    "!cd /content/\n",
    "!ls"
   ]
  },
  {
   "cell_type": "code",
   "execution_count": 4,
   "metadata": {
    "colab": {
     "base_uri": "https://localhost:8080/",
     "height": 121
    },
    "colab_type": "code",
    "id": "cgLKa_4Kgdkp",
    "outputId": "0cd67d21-d09b-4789-c53b-7fd963dba1c8"
   },
   "outputs": [
    {
     "name": "stdout",
     "output_type": "stream",
     "text": [
      "Cloning into 'biosbias'...\n",
      "remote: Enumerating objects: 16, done.\u001b[K\n",
      "remote: Counting objects:   6% (1/16)\u001b[K\r",
      "remote: Counting objects:  12% (2/16)\u001b[K\r",
      "remote: Counting objects:  18% (3/16)\u001b[K\r",
      "remote: Counting objects:  25% (4/16)\u001b[K\r",
      "remote: Counting objects:  31% (5/16)\u001b[K\r",
      "remote: Counting objects:  37% (6/16)\u001b[K\r",
      "remote: Counting objects:  43% (7/16)\u001b[K\r",
      "remote: Counting objects:  50% (8/16)\u001b[K\r",
      "remote: Counting objects:  56% (9/16)\u001b[K\r",
      "remote: Counting objects:  62% (10/16)\u001b[K\r",
      "remote: Counting objects:  68% (11/16)\u001b[K\r",
      "remote: Counting objects:  75% (12/16)\u001b[K\r",
      "remote: Counting objects:  81% (13/16)\u001b[K\r",
      "remote: Counting objects:  87% (14/16)\u001b[K\r",
      "remote: Counting objects:  93% (15/16)\u001b[K\r",
      "remote: Counting objects: 100% (16/16)\u001b[K\r",
      "remote: Counting objects: 100% (16/16), done.\u001b[K\n",
      "remote: Compressing objects:   7% (1/14)\u001b[K\r",
      "remote: Compressing objects:  14% (2/14)\u001b[K\r",
      "remote: Compressing objects:  21% (3/14)\u001b[K\r",
      "remote: Compressing objects:  28% (4/14)\u001b[K\r",
      "remote: Compressing objects:  35% (5/14)\u001b[K\r",
      "remote: Compressing objects:  42% (6/14)\u001b[K\r",
      "remote: Compressing objects:  50% (7/14)\u001b[K\r",
      "remote: Compressing objects:  57% (8/14)\u001b[K\r",
      "remote: Compressing objects:  64% (9/14)\u001b[K\r",
      "remote: Compressing objects:  71% (10/14)\u001b[K\r",
      "remote: Compressing objects:  78% (11/14)\u001b[K\r",
      "remote: Compressing objects:  85% (12/14)\u001b[K\r",
      "remote: Compressing objects:  92% (13/14)\u001b[K\r",
      "remote: Compressing objects: 100% (14/14)\u001b[K\r",
      "remote: Compressing objects: 100% (14/14), done.\u001b[K\n",
      "Unpacking objects:   2% (1/40)   \r",
      "Unpacking objects:   5% (2/40)   \r",
      "Unpacking objects:   7% (3/40)   \r",
      "Unpacking objects:  10% (4/40)   \r",
      "Unpacking objects:  12% (5/40)   \r",
      "Unpacking objects:  15% (6/40)   \r",
      "Unpacking objects:  17% (7/40)   \r",
      "Unpacking objects:  20% (8/40)   \r",
      "Unpacking objects:  22% (9/40)   \r",
      "Unpacking objects:  25% (10/40)   \r",
      "Unpacking objects:  27% (11/40)   \r",
      "Unpacking objects:  30% (12/40)   \r",
      "Unpacking objects:  32% (13/40)   \r",
      "Unpacking objects:  35% (14/40)   \r",
      "Unpacking objects:  37% (15/40)   \r",
      "Unpacking objects:  40% (16/40)   \r",
      "Unpacking objects:  42% (17/40)   \r",
      "Unpacking objects:  45% (18/40)   \r",
      "Unpacking objects:  47% (19/40)   \r",
      "Unpacking objects:  50% (20/40)   \r",
      "Unpacking objects:  52% (21/40)   \r",
      "Unpacking objects:  55% (22/40)   \r",
      "Unpacking objects:  57% (23/40)   \r",
      "Unpacking objects:  60% (24/40)   \r",
      "Unpacking objects:  62% (25/40)   \r",
      "Unpacking objects:  65% (26/40)   \r",
      "Unpacking objects:  67% (27/40)   \r",
      "Unpacking objects:  70% (28/40)   \r",
      "Unpacking objects:  72% (29/40)   \r",
      "Unpacking objects:  75% (30/40)   \r",
      "Unpacking objects:  77% (31/40)   \r",
      "Unpacking objects:  80% (32/40)   \r",
      "Unpacking objects:  82% (33/40)   \r",
      "Unpacking objects:  85% (34/40)   \r",
      "Unpacking objects:  87% (35/40)   \r",
      "remote: Total 40 (delta 2), reused 13 (delta 2), pack-reused 24\n",
      "Unpacking objects:  90% (36/40)   \r",
      "Unpacking objects:  92% (37/40)   \r",
      "Unpacking objects:  95% (38/40)   \r",
      "Unpacking objects:  97% (39/40)   \r",
      "Unpacking objects: 100% (40/40)   \r",
      "Unpacking objects: 100% (40/40), done.\n"
     ]
    }
   ],
   "source": [
    "!cd /content/\n",
    "!git clone https://github.com/punyajoy/biosbias.git"
   ]
  },
  {
   "cell_type": "code",
   "execution_count": 5,
   "metadata": {
    "colab": {
     "base_uri": "https://localhost:8080/",
     "height": 34
    },
    "colab_type": "code",
    "id": "hgynxgPzgeJp",
    "outputId": "f48d9a02-45b9-4dc6-b2d0-cf910d808421"
   },
   "outputs": [
    {
     "name": "stdout",
     "output_type": "stream",
     "text": [
      "/content/biosbias\n"
     ]
    }
   ],
   "source": [
    "cd biosbias/"
   ]
  },
  {
   "cell_type": "code",
   "execution_count": 2,
   "metadata": {
    "colab": {
     "base_uri": "https://localhost:8080/",
     "height": 330
    },
    "colab_type": "code",
    "id": "Ax8JixvWgnnP",
    "outputId": "bbedda50-caf6-4b51-c0ae-e560f87edf60"
   },
   "outputs": [
    {
     "name": "stdout",
     "output_type": "stream",
     "text": [
      "Loading 'CC-MAIN-2013-20-bios.pkl'\n",
      "Loading 'CC-MAIN-2014-41-bios.pkl'\n",
      "Loading 'CC-MAIN-2016-44-bios.pkl'\n",
      "Loading 'CC-MAIN-2017-43-bios.pkl'\n",
      "Loading 'CC-MAIN-2018-05-bios.pkl'\n",
      "Loading 'CC-MAIN-2018-13-bios.pkl'\n",
      "Loading 'CC-MAIN-2018-34-bios.pkl'\n",
      "82,701/119,125 'different' name+titles (69.4%)\n",
      "Processing bios...\n",
      "Wrote 82,701 bios to 'OUT.pkl'\n"
     ]
    }
   ],
   "source": [
    "!python preprocess.py -o OUT.pkl CC*.pkl"
   ]
  },
  {
   "cell_type": "code",
   "execution_count": 3,
   "metadata": {
    "colab": {
     "base_uri": "https://localhost:8080/",
     "height": 202
    },
    "colab_type": "code",
    "id": "Vqqdb63Pk0hY",
    "outputId": "37bd3400-7ce6-48e1-872e-67bea7a8f6f1"
   },
   "outputs": [],
   "source": [
    "import pickle\n",
    "all_bios = pickle.load( open( \"OUT.pkl\", \"rb\" ) )\n",
    "\n"
   ]
  },
  {
   "cell_type": "code",
   "execution_count": 4,
   "metadata": {
    "colab": {},
    "colab_type": "code",
    "id": "LUsIjSjmmr4i"
   },
   "outputs": [],
   "source": [
    "import pandas as pd\n",
    "dataframe=pd.DataFrame(all_bios)"
   ]
  },
  {
   "cell_type": "code",
   "execution_count": 5,
   "metadata": {
    "colab": {
     "base_uri": "https://localhost:8080/",
     "height": 608
    },
    "colab_type": "code",
    "id": "AxdfUW2wnLZA",
    "outputId": "4d42a15f-f9b4-417e-e77b-558f541642dd",
    "scrolled": true
   },
   "outputs": [
    {
     "data": {
      "text/html": [
       "<div>\n",
       "<style scoped>\n",
       "    .dataframe tbody tr th:only-of-type {\n",
       "        vertical-align: middle;\n",
       "    }\n",
       "\n",
       "    .dataframe tbody tr th {\n",
       "        vertical-align: top;\n",
       "    }\n",
       "\n",
       "    .dataframe thead th {\n",
       "        text-align: right;\n",
       "    }\n",
       "</style>\n",
       "<table border=\"1\" class=\"dataframe\">\n",
       "  <thead>\n",
       "    <tr style=\"text-align: right;\">\n",
       "      <th></th>\n",
       "      <th>URI</th>\n",
       "      <th>bio</th>\n",
       "      <th>gender</th>\n",
       "      <th>name</th>\n",
       "      <th>path</th>\n",
       "      <th>raw</th>\n",
       "      <th>raw_title</th>\n",
       "      <th>start_pos</th>\n",
       "      <th>title</th>\n",
       "    </tr>\n",
       "  </thead>\n",
       "  <tbody>\n",
       "    <tr>\n",
       "      <th>0</th>\n",
       "      <td>http://acturca.wordpress.com/2012/04/13/turkey...</td>\n",
       "      <td>_ is also a Ronald D. Asmus Policy Entrepreneu...</td>\n",
       "      <td>F</td>\n",
       "      <td>(Nora, Fisher, Onar)</td>\n",
       "      <td>crawl-data/CC-MAIN-2013-20/segments/1368696381...</td>\n",
       "      <td>* Nora Fisher Onar is an assistant professor o...</td>\n",
       "      <td>assistant professor</td>\n",
       "      <td>109</td>\n",
       "      <td>professor</td>\n",
       "    </tr>\n",
       "    <tr>\n",
       "      <th>1</th>\n",
       "      <td>http://www.forwardtheater.com/about/board</td>\n",
       "      <td>_ is a member of the AICPA and WICPA. _ gradua...</td>\n",
       "      <td>M</td>\n",
       "      <td>(Brent, , Wagner)</td>\n",
       "      <td>crawl-data/CC-MAIN-2013-20/segments/1368696381...</td>\n",
       "      <td>Brent Wagner is a certified public accountant ...</td>\n",
       "      <td>certified public accountant</td>\n",
       "      <td>124</td>\n",
       "      <td>accountant</td>\n",
       "    </tr>\n",
       "    <tr>\n",
       "      <th>2</th>\n",
       "      <td>http://www.ou.org/torah/1416</td>\n",
       "      <td>Dr. _ has held teaching and research positions...</td>\n",
       "      <td>M</td>\n",
       "      <td>(Shawn, Zelig, Aster)</td>\n",
       "      <td>crawl-data/CC-MAIN-2013-20/segments/1368696381...</td>\n",
       "      <td>Dr. Shawn Zelig Aster is an assistant professo...</td>\n",
       "      <td>assistant professor</td>\n",
       "      <td>79</td>\n",
       "      <td>professor</td>\n",
       "    </tr>\n",
       "    <tr>\n",
       "      <th>3</th>\n",
       "      <td>http://morevoices.tumblr.com/</td>\n",
       "      <td>_ currently works on CNN’s newest primetime sh...</td>\n",
       "      <td>F</td>\n",
       "      <td>(Brittany, , McCandless)</td>\n",
       "      <td>crawl-data/CC-MAIN-2013-20/segments/1368696381...</td>\n",
       "      <td>Brittany McCandless is a journalist with a pri...</td>\n",
       "      <td>journalist</td>\n",
       "      <td>74</td>\n",
       "      <td>journalist</td>\n",
       "    </tr>\n",
       "    <tr>\n",
       "      <th>4</th>\n",
       "      <td>http://diggthedrazen.com/author/diggthedrazen/</td>\n",
       "      <td>_ runs a boutique design studio attending clie...</td>\n",
       "      <td>M</td>\n",
       "      <td>(Arturo, , Toledo)</td>\n",
       "      <td>crawl-data/CC-MAIN-2013-20/segments/1368696381...</td>\n",
       "      <td>Arturo Toledo is an Architect. He runs a bouti...</td>\n",
       "      <td>Architect</td>\n",
       "      <td>30</td>\n",
       "      <td>architect</td>\n",
       "    </tr>\n",
       "  </tbody>\n",
       "</table>\n",
       "</div>"
      ],
      "text/plain": [
       "                                                 URI  \\\n",
       "0  http://acturca.wordpress.com/2012/04/13/turkey...   \n",
       "1          http://www.forwardtheater.com/about/board   \n",
       "2                       http://www.ou.org/torah/1416   \n",
       "3                      http://morevoices.tumblr.com/   \n",
       "4     http://diggthedrazen.com/author/diggthedrazen/   \n",
       "\n",
       "                                                 bio gender  \\\n",
       "0  _ is also a Ronald D. Asmus Policy Entrepreneu...      F   \n",
       "1  _ is a member of the AICPA and WICPA. _ gradua...      M   \n",
       "2  Dr. _ has held teaching and research positions...      M   \n",
       "3  _ currently works on CNN’s newest primetime sh...      F   \n",
       "4  _ runs a boutique design studio attending clie...      M   \n",
       "\n",
       "                       name  \\\n",
       "0      (Nora, Fisher, Onar)   \n",
       "1         (Brent, , Wagner)   \n",
       "2     (Shawn, Zelig, Aster)   \n",
       "3  (Brittany, , McCandless)   \n",
       "4        (Arturo, , Toledo)   \n",
       "\n",
       "                                                path  \\\n",
       "0  crawl-data/CC-MAIN-2013-20/segments/1368696381...   \n",
       "1  crawl-data/CC-MAIN-2013-20/segments/1368696381...   \n",
       "2  crawl-data/CC-MAIN-2013-20/segments/1368696381...   \n",
       "3  crawl-data/CC-MAIN-2013-20/segments/1368696381...   \n",
       "4  crawl-data/CC-MAIN-2013-20/segments/1368696381...   \n",
       "\n",
       "                                                 raw  \\\n",
       "0  * Nora Fisher Onar is an assistant professor o...   \n",
       "1  Brent Wagner is a certified public accountant ...   \n",
       "2  Dr. Shawn Zelig Aster is an assistant professo...   \n",
       "3  Brittany McCandless is a journalist with a pri...   \n",
       "4  Arturo Toledo is an Architect. He runs a bouti...   \n",
       "\n",
       "                     raw_title  start_pos       title  \n",
       "0          assistant professor        109   professor  \n",
       "1  certified public accountant        124  accountant  \n",
       "2          assistant professor         79   professor  \n",
       "3                   journalist         74  journalist  \n",
       "4                    Architect         30   architect  "
      ]
     },
     "execution_count": 5,
     "metadata": {},
     "output_type": "execute_result"
    }
   ],
   "source": [
    "dataframe.head()"
   ]
  },
  {
   "cell_type": "code",
   "execution_count": 8,
   "metadata": {},
   "outputs": [],
   "source": [
    "import numpy as np\n",
    "from sklearn.model_selection import train_test_split\n",
    "X_train_dev,X_test= train_test_split(dataframe, test_size=0.33, random_state=42, stratify=dataframe['title'])\n",
    "X_train,X_dev= train_test_split(dataframe, test_size=0.13, random_state=42, stratify=dataframe['title'])"
   ]
  },
  {
   "cell_type": "code",
   "execution_count": 11,
   "metadata": {
    "colab": {},
    "colab_type": "code",
    "id": "np8sjIz_Pu-s"
   },
   "outputs": [],
   "source": [
    "X_train.to_csv('Data/Train.csv')\n",
    "X_dev.to_csv('Data/Dev.csv')\n",
    "X_test.to_csv('Data/Test.csv')"
   ]
  },
  {
   "cell_type": "code",
   "execution_count": 10,
   "metadata": {},
   "outputs": [
    {
     "data": {
      "text/html": [
       "<div>\n",
       "<style scoped>\n",
       "    .dataframe tbody tr th:only-of-type {\n",
       "        vertical-align: middle;\n",
       "    }\n",
       "\n",
       "    .dataframe tbody tr th {\n",
       "        vertical-align: top;\n",
       "    }\n",
       "\n",
       "    .dataframe thead th {\n",
       "        text-align: right;\n",
       "    }\n",
       "</style>\n",
       "<table border=\"1\" class=\"dataframe\">\n",
       "  <thead>\n",
       "    <tr style=\"text-align: right;\">\n",
       "      <th></th>\n",
       "      <th>URI</th>\n",
       "      <th>bio</th>\n",
       "      <th>gender</th>\n",
       "      <th>name</th>\n",
       "      <th>path</th>\n",
       "      <th>raw</th>\n",
       "      <th>raw_title</th>\n",
       "      <th>start_pos</th>\n",
       "      <th>title</th>\n",
       "    </tr>\n",
       "  </thead>\n",
       "  <tbody>\n",
       "    <tr>\n",
       "      <th>63972</th>\n",
       "      <td>https://www.murphy-law-group.com/michael-l-fenger</td>\n",
       "      <td>_ is licensed to practice law in the State of ...</td>\n",
       "      <td>M</td>\n",
       "      <td>(Michael, L, Fenger)</td>\n",
       "      <td>crawl-data/CC-MAIN-2018-13/segments/1521257645...</td>\n",
       "      <td>Attorney Michael L. Fenger is an Associate Att...</td>\n",
       "      <td>Attorney</td>\n",
       "      <td>74</td>\n",
       "      <td>attorney</td>\n",
       "    </tr>\n",
       "    <tr>\n",
       "      <th>71382</th>\n",
       "      <td>http://www.openvisconf.com/</td>\n",
       "      <td>_ research areas include uncertainty visualiza...</td>\n",
       "      <td>M</td>\n",
       "      <td>(Matthew, , Kay)</td>\n",
       "      <td>crawl-data/CC-MAIN-2018-13/segments/1521257645...</td>\n",
       "      <td>Matthew Kay is an Assistant Professor at the U...</td>\n",
       "      <td>Assistant Professor</td>\n",
       "      <td>158</td>\n",
       "      <td>professor</td>\n",
       "    </tr>\n",
       "    <tr>\n",
       "      <th>73078</th>\n",
       "      <td>http://rescuingbiomedicalresearch.org/about/st...</td>\n",
       "      <td>Born and raised in Puerto Rico, _ completed _ ...</td>\n",
       "      <td>M</td>\n",
       "      <td>(Daniel, A, Colón-Ramos)</td>\n",
       "      <td>crawl-data/CC-MAIN-2018-13/segments/1521257645...</td>\n",
       "      <td>Daniel A. Colón-Ramos is an Associate Professo...</td>\n",
       "      <td>Associate Professor</td>\n",
       "      <td>100</td>\n",
       "      <td>professor</td>\n",
       "    </tr>\n",
       "    <tr>\n",
       "      <th>7341</th>\n",
       "      <td>http://www.hopkinsmedicine.org/profiles/result...</td>\n",
       "      <td>_ specializes in pediatric diagnostic radiolog...</td>\n",
       "      <td>F</td>\n",
       "      <td>(Jane, Ellen, Benson)</td>\n",
       "      <td>crawl-data/CC-MAIN-2014-41/segments/1410657104...</td>\n",
       "      <td>Dr. Jane Ellen Benson is an Assistant Professo...</td>\n",
       "      <td>Assistant Professor</td>\n",
       "      <td>127</td>\n",
       "      <td>professor</td>\n",
       "    </tr>\n",
       "    <tr>\n",
       "      <th>31218</th>\n",
       "      <td>https://whitehotmagazine.com/articles/de-re-ga...</td>\n",
       "      <td>Not only _ canvases but _ studio itself is a r...</td>\n",
       "      <td>M</td>\n",
       "      <td>(Danny, , Minnick)</td>\n",
       "      <td>crawl-data/CC-MAIN-2018-05/segments/1516084886...</td>\n",
       "      <td>Danny Minnick is a painter who isn’t afraid to...</td>\n",
       "      <td>painter</td>\n",
       "      <td>57</td>\n",
       "      <td>painter</td>\n",
       "    </tr>\n",
       "  </tbody>\n",
       "</table>\n",
       "</div>"
      ],
      "text/plain": [
       "                                                     URI  \\\n",
       "63972  https://www.murphy-law-group.com/michael-l-fenger   \n",
       "71382                        http://www.openvisconf.com/   \n",
       "73078  http://rescuingbiomedicalresearch.org/about/st...   \n",
       "7341   http://www.hopkinsmedicine.org/profiles/result...   \n",
       "31218  https://whitehotmagazine.com/articles/de-re-ga...   \n",
       "\n",
       "                                                     bio gender  \\\n",
       "63972  _ is licensed to practice law in the State of ...      M   \n",
       "71382  _ research areas include uncertainty visualiza...      M   \n",
       "73078  Born and raised in Puerto Rico, _ completed _ ...      M   \n",
       "7341   _ specializes in pediatric diagnostic radiolog...      F   \n",
       "31218  Not only _ canvases but _ studio itself is a r...      M   \n",
       "\n",
       "                           name  \\\n",
       "63972      (Michael, L, Fenger)   \n",
       "71382          (Matthew, , Kay)   \n",
       "73078  (Daniel, A, Colón-Ramos)   \n",
       "7341      (Jane, Ellen, Benson)   \n",
       "31218        (Danny, , Minnick)   \n",
       "\n",
       "                                                    path  \\\n",
       "63972  crawl-data/CC-MAIN-2018-13/segments/1521257645...   \n",
       "71382  crawl-data/CC-MAIN-2018-13/segments/1521257645...   \n",
       "73078  crawl-data/CC-MAIN-2018-13/segments/1521257645...   \n",
       "7341   crawl-data/CC-MAIN-2014-41/segments/1410657104...   \n",
       "31218  crawl-data/CC-MAIN-2018-05/segments/1516084886...   \n",
       "\n",
       "                                                     raw            raw_title  \\\n",
       "63972  Attorney Michael L. Fenger is an Associate Att...             Attorney   \n",
       "71382  Matthew Kay is an Assistant Professor at the U...  Assistant Professor   \n",
       "73078  Daniel A. Colón-Ramos is an Associate Professo...  Associate Professor   \n",
       "7341   Dr. Jane Ellen Benson is an Assistant Professo...  Assistant Professor   \n",
       "31218  Danny Minnick is a painter who isn’t afraid to...              painter   \n",
       "\n",
       "       start_pos      title  \n",
       "63972         74   attorney  \n",
       "71382        158  professor  \n",
       "73078        100  professor  \n",
       "7341         127  professor  \n",
       "31218         57    painter  "
      ]
     },
     "execution_count": 10,
     "metadata": {},
     "output_type": "execute_result"
    }
   ],
   "source": []
  },
  {
   "cell_type": "code",
   "execution_count": null,
   "metadata": {},
   "outputs": [],
   "source": []
  }
 ],
 "metadata": {
  "accelerator": "GPU",
  "colab": {
   "collapsed_sections": [],
   "include_colab_link": true,
   "name": "GRU_implementation.ipynb",
   "provenance": []
  },
  "kernelspec": {
   "display_name": "Python 3",
   "language": "python",
   "name": "python3"
  },
  "language_info": {
   "codemirror_mode": {
    "name": "ipython",
    "version": 3
   },
   "file_extension": ".py",
   "mimetype": "text/x-python",
   "name": "python",
   "nbconvert_exporter": "python",
   "pygments_lexer": "ipython3",
   "version": "3.7.3"
  }
 },
 "nbformat": 4,
 "nbformat_minor": 1
}
