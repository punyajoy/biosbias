{
  "nbformat": 4,
  "nbformat_minor": 0,
  "metadata": {
    "colab": {
      "name": "GRU_implementation.ipynb",
      "provenance": [],
      "collapsed_sections": [],
      "include_colab_link": true
    },
    "kernelspec": {
      "name": "python3",
      "display_name": "Python 3"
    },
    "accelerator": "GPU"
  },
  "cells": [
    {
      "cell_type": "markdown",
      "metadata": {
        "id": "view-in-github",
        "colab_type": "text"
      },
      "source": [
        "<a href=\"https://colab.research.google.com/github/punyajoy/biosbias/blob/master/GRU_implementation.ipynb\" target=\"_parent\"><img src=\"https://colab.research.google.com/assets/colab-badge.svg\" alt=\"Open In Colab\"/></a>"
      ]
    },
    {
      "cell_type": "code",
      "metadata": {
        "id": "sJE08tb9NhEh",
        "colab_type": "code",
        "outputId": "d7655837-3a58-4338-9649-c71386520ec8",
        "colab": {
          "base_uri": "https://localhost:8080/",
          "height": 34
        }
      },
      "source": [
        "# cd /content/drive/My\\ Drive/biosbias/"
      ],
      "execution_count": 5,
      "outputs": [
        {
          "output_type": "stream",
          "text": [
            "/content/drive/.shortcut-targets-by-id/1M75p8XNMCL0xdjv4gJdZ4NFSQTAgh84s/biosbias\n"
          ],
          "name": "stdout"
        }
      ]
    },
    {
      "cell_type": "code",
      "metadata": {
        "id": "ggQvpajLOiHJ",
        "colab_type": "code",
        "outputId": "f4c08476-277a-4fc6-ccca-a136a4150cc3",
        "colab": {
          "base_uri": "https://localhost:8080/",
          "height": 34
        }
      },
      "source": [
        "ls"
      ],
      "execution_count": 1,
      "outputs": [
        {
          "output_type": "stream",
          "text": [
            "\u001b[0m\u001b[01;34mdrive\u001b[0m/  \u001b[01;34msample_data\u001b[0m/\n"
          ],
          "name": "stdout"
        }
      ]
    },
    {
      "cell_type": "code",
      "metadata": {
        "id": "VX56eRZ8XDsc",
        "colab_type": "code",
        "outputId": "b25955ff-bf94-4abc-ad8c-f9dab61a12f1",
        "colab": {
          "base_uri": "https://localhost:8080/",
          "height": 54
        }
      },
      "source": [
        "from google.colab import drive\n",
        "drive.mount('/content/drive')"
      ],
      "execution_count": 2,
      "outputs": [
        {
          "output_type": "stream",
          "text": [
            "Drive already mounted at /content/drive; to attempt to forcibly remount, call drive.mount(\"/content/drive\", force_remount=True).\n"
          ],
          "name": "stdout"
        }
      ]
    },
    {
      "cell_type": "code",
      "metadata": {
        "id": "Lw7ERaKJQ_Sw",
        "colab_type": "code",
        "colab": {
          "base_uri": "https://localhost:8080/",
          "height": 34
        },
        "outputId": "66537712-fdb9-4040-ddf0-f0e5c14bb899"
      },
      "source": [
        "!cd /content/\n",
        "!ls"
      ],
      "execution_count": 3,
      "outputs": [
        {
          "output_type": "stream",
          "text": [
            "drive  sample_data\n"
          ],
          "name": "stdout"
        }
      ]
    },
    {
      "cell_type": "code",
      "metadata": {
        "id": "cgLKa_4Kgdkp",
        "colab_type": "code",
        "outputId": "0cd67d21-d09b-4789-c53b-7fd963dba1c8",
        "colab": {
          "base_uri": "https://localhost:8080/",
          "height": 121
        }
      },
      "source": [
        "!cd /content/\n",
        "!git clone https://github.com/punyajoy/biosbias.git"
      ],
      "execution_count": 4,
      "outputs": [
        {
          "output_type": "stream",
          "text": [
            "Cloning into 'biosbias'...\n",
            "remote: Enumerating objects: 16, done.\u001b[K\n",
            "remote: Counting objects:   6% (1/16)\u001b[K\rremote: Counting objects:  12% (2/16)\u001b[K\rremote: Counting objects:  18% (3/16)\u001b[K\rremote: Counting objects:  25% (4/16)\u001b[K\rremote: Counting objects:  31% (5/16)\u001b[K\rremote: Counting objects:  37% (6/16)\u001b[K\rremote: Counting objects:  43% (7/16)\u001b[K\rremote: Counting objects:  50% (8/16)\u001b[K\rremote: Counting objects:  56% (9/16)\u001b[K\rremote: Counting objects:  62% (10/16)\u001b[K\rremote: Counting objects:  68% (11/16)\u001b[K\rremote: Counting objects:  75% (12/16)\u001b[K\rremote: Counting objects:  81% (13/16)\u001b[K\rremote: Counting objects:  87% (14/16)\u001b[K\rremote: Counting objects:  93% (15/16)\u001b[K\rremote: Counting objects: 100% (16/16)\u001b[K\rremote: Counting objects: 100% (16/16), done.\u001b[K\n",
            "remote: Compressing objects:   7% (1/14)\u001b[K\rremote: Compressing objects:  14% (2/14)\u001b[K\rremote: Compressing objects:  21% (3/14)\u001b[K\rremote: Compressing objects:  28% (4/14)\u001b[K\rremote: Compressing objects:  35% (5/14)\u001b[K\rremote: Compressing objects:  42% (6/14)\u001b[K\rremote: Compressing objects:  50% (7/14)\u001b[K\rremote: Compressing objects:  57% (8/14)\u001b[K\rremote: Compressing objects:  64% (9/14)\u001b[K\rremote: Compressing objects:  71% (10/14)\u001b[K\rremote: Compressing objects:  78% (11/14)\u001b[K\rremote: Compressing objects:  85% (12/14)\u001b[K\rremote: Compressing objects:  92% (13/14)\u001b[K\rremote: Compressing objects: 100% (14/14)\u001b[K\rremote: Compressing objects: 100% (14/14), done.\u001b[K\n",
            "Unpacking objects:   2% (1/40)   \rUnpacking objects:   5% (2/40)   \rUnpacking objects:   7% (3/40)   \rUnpacking objects:  10% (4/40)   \rUnpacking objects:  12% (5/40)   \rUnpacking objects:  15% (6/40)   \rUnpacking objects:  17% (7/40)   \rUnpacking objects:  20% (8/40)   \rUnpacking objects:  22% (9/40)   \rUnpacking objects:  25% (10/40)   \rUnpacking objects:  27% (11/40)   \rUnpacking objects:  30% (12/40)   \rUnpacking objects:  32% (13/40)   \rUnpacking objects:  35% (14/40)   \rUnpacking objects:  37% (15/40)   \rUnpacking objects:  40% (16/40)   \rUnpacking objects:  42% (17/40)   \rUnpacking objects:  45% (18/40)   \rUnpacking objects:  47% (19/40)   \rUnpacking objects:  50% (20/40)   \rUnpacking objects:  52% (21/40)   \rUnpacking objects:  55% (22/40)   \rUnpacking objects:  57% (23/40)   \rUnpacking objects:  60% (24/40)   \rUnpacking objects:  62% (25/40)   \rUnpacking objects:  65% (26/40)   \rUnpacking objects:  67% (27/40)   \rUnpacking objects:  70% (28/40)   \rUnpacking objects:  72% (29/40)   \rUnpacking objects:  75% (30/40)   \rUnpacking objects:  77% (31/40)   \rUnpacking objects:  80% (32/40)   \rUnpacking objects:  82% (33/40)   \rUnpacking objects:  85% (34/40)   \rUnpacking objects:  87% (35/40)   \rremote: Total 40 (delta 2), reused 13 (delta 2), pack-reused 24\n",
            "Unpacking objects:  90% (36/40)   \rUnpacking objects:  92% (37/40)   \rUnpacking objects:  95% (38/40)   \rUnpacking objects:  97% (39/40)   \rUnpacking objects: 100% (40/40)   \rUnpacking objects: 100% (40/40), done.\n"
          ],
          "name": "stdout"
        }
      ]
    },
    {
      "cell_type": "code",
      "metadata": {
        "id": "hgynxgPzgeJp",
        "colab_type": "code",
        "outputId": "f48d9a02-45b9-4dc6-b2d0-cf910d808421",
        "colab": {
          "base_uri": "https://localhost:8080/",
          "height": 34
        }
      },
      "source": [
        "cd biosbias/"
      ],
      "execution_count": 5,
      "outputs": [
        {
          "output_type": "stream",
          "text": [
            "/content/biosbias\n"
          ],
          "name": "stdout"
        }
      ]
    },
    {
      "cell_type": "code",
      "metadata": {
        "id": "Ax8JixvWgnnP",
        "colab_type": "code",
        "outputId": "bbedda50-caf6-4b51-c0ae-e560f87edf60",
        "colab": {
          "base_uri": "https://localhost:8080/",
          "height": 330
        }
      },
      "source": [
        "!python preprocess.py -o OUT.pkl /content/drive/My\\ Drive/biosbias/CC*.pkl"
      ],
      "execution_count": 9,
      "outputs": [
        {
          "output_type": "stream",
          "text": [
            "Loading '/content/drive/My Drive/biosbias/CC-MAIN-2013-20-bios.pkl'\n",
            "Loading '/content/drive/My Drive/biosbias/CC-MAIN-2014-41-bios.pkl'\n",
            "Loading '/content/drive/My Drive/biosbias/CC-MAIN-2016-44-bios.pkl'\n",
            "Loading '/content/drive/My Drive/biosbias/CC-MAIN-2017-13-bios.pkl'\n",
            "Loading '/content/drive/My Drive/biosbias/CC-MAIN-2017-26-bios.pkl'\n",
            "Loading '/content/drive/My Drive/biosbias/CC-MAIN-2017-34-bios.pkl'\n",
            "Loading '/content/drive/My Drive/biosbias/CC-MAIN-2017-39-bios.pkl'\n",
            "Loading '/content/drive/My Drive/biosbias/CC-MAIN-2017-43-bios.pkl'\n",
            "Loading '/content/drive/My Drive/biosbias/CC-MAIN-2017-47-bios.pkl'\n",
            "Loading '/content/drive/My Drive/biosbias/CC-MAIN-2018-05-bios.pkl'\n",
            "Loading '/content/drive/My Drive/biosbias/CC-MAIN-2018-09-bios.pkl'\n",
            "Loading '/content/drive/My Drive/biosbias/CC-MAIN-2018-13-bios.pkl'\n",
            "Loading '/content/drive/My Drive/biosbias/CC-MAIN-2018-34-bios.pkl'\n",
            "Loading '/content/drive/My Drive/biosbias/CC-MAIN-2018-39-bios.pkl'\n",
            "Loading '/content/drive/My Drive/biosbias/CC-MAIN-2018-43-bios.pkl'\n",
            "195,010/407,643 'different' name+titles (47.8%)\n",
            "Processing bios...\n",
            "Wrote 195,010 bios to 'OUT.pkl'\n"
          ],
          "name": "stdout"
        }
      ]
    },
    {
      "cell_type": "code",
      "metadata": {
        "id": "kk7uxR3UjSQM",
        "colab_type": "code",
        "outputId": "d4fa203a-9930-4cf9-ec25-4da2344b6746",
        "colab": {
          "base_uri": "https://localhost:8080/",
          "height": 52
        }
      },
      "source": [
        "!jupyter nbconvert --to python Bias_in_Bios_implement.ipynb"
      ],
      "execution_count": 10,
      "outputs": [
        {
          "output_type": "stream",
          "text": [
            "[NbConvertApp] Converting notebook Bias_in_Bios_implement.ipynb to python\n",
            "[NbConvertApp] Writing 6472 bytes to Bias_in_Bios_implement.py\n"
          ],
          "name": "stdout"
        }
      ]
    },
    {
      "cell_type": "code",
      "metadata": {
        "id": "zu7iy6kQYypu",
        "colab_type": "code",
        "colab": {
          "base_uri": "https://localhost:8080/",
          "height": 69
        },
        "outputId": "199f4f6c-e32c-465c-a127-bd8d21b8d9c7"
      },
      "source": [
        "!git config --global user.email \"punyajoysaha1998@gmail.com\"\n",
        "!git config --global user.name \"Punyajoy Saha\"\n",
        "!git commit -m \"Changed the preprocess file\""
      ],
      "execution_count": 16,
      "outputs": [
        {
          "output_type": "stream",
          "text": [
            "[master bcf62d1] Changed the preprocess file\n",
            " 2 files changed, 332 insertions(+), 1 deletion(-)\n",
            " create mode 100644 Bias_in_Bios_implement.py\n"
          ],
          "name": "stdout"
        }
      ]
    },
    {
      "cell_type": "code",
      "metadata": {
        "id": "QXFsqX40aAc2",
        "colab_type": "code",
        "colab": {
          "base_uri": "https://localhost:8080/",
          "height": 34
        },
        "outputId": "0a8605df-eca0-40ef-e440-2ebdc8040305"
      },
      "source": [
        "!git push origin master"
      ],
      "execution_count": 18,
      "outputs": [
        {
          "output_type": "stream",
          "text": [
            "fatal: could not read Username for 'https://github.com': No such device or address\n"
          ],
          "name": "stdout"
        }
      ]
    },
    {
      "cell_type": "code",
      "metadata": {
        "id": "Vqqdb63Pk0hY",
        "colab_type": "code",
        "colab": {
          "base_uri": "https://localhost:8080/",
          "height": 202
        },
        "outputId": "37bd3400-7ce6-48e1-872e-67bea7a8f6f1"
      },
      "source": [
        "import pickle\n",
        "all_bios = pickle.load( open( \"OUT.pkl\", \"rb\" ) )\n",
        "\n"
      ],
      "execution_count": 8,
      "outputs": [
        {
          "output_type": "error",
          "ename": "FileNotFoundError",
          "evalue": "ignored",
          "traceback": [
            "\u001b[0;31m---------------------------------------------------------------------------\u001b[0m",
            "\u001b[0;31mFileNotFoundError\u001b[0m                         Traceback (most recent call last)",
            "\u001b[0;32m<ipython-input-8-28b751c47006>\u001b[0m in \u001b[0;36m<module>\u001b[0;34m()\u001b[0m\n\u001b[1;32m      1\u001b[0m \u001b[0;32mimport\u001b[0m \u001b[0mpickle\u001b[0m\u001b[0;34m\u001b[0m\u001b[0;34m\u001b[0m\u001b[0m\n\u001b[0;32m----> 2\u001b[0;31m \u001b[0mall_bios\u001b[0m \u001b[0;34m=\u001b[0m \u001b[0mpickle\u001b[0m\u001b[0;34m.\u001b[0m\u001b[0mload\u001b[0m\u001b[0;34m(\u001b[0m \u001b[0mopen\u001b[0m\u001b[0;34m(\u001b[0m \u001b[0;34m\"OUT.pkl\"\u001b[0m\u001b[0;34m,\u001b[0m \u001b[0;34m\"rb\"\u001b[0m \u001b[0;34m)\u001b[0m \u001b[0;34m)\u001b[0m\u001b[0;34m\u001b[0m\u001b[0;34m\u001b[0m\u001b[0m\n\u001b[0m\u001b[1;32m      3\u001b[0m \u001b[0;34m\u001b[0m\u001b[0m\n",
            "\u001b[0;31mFileNotFoundError\u001b[0m: [Errno 2] No such file or directory: 'OUT.pkl'"
          ]
        }
      ]
    },
    {
      "cell_type": "code",
      "metadata": {
        "id": "LUsIjSjmmr4i",
        "colab_type": "code",
        "colab": {}
      },
      "source": [
        "import pandas as pd\n",
        "dataframe=pd.DataFrame(all_bios)"
      ],
      "execution_count": 0,
      "outputs": []
    },
    {
      "cell_type": "code",
      "metadata": {
        "id": "AxdfUW2wnLZA",
        "colab_type": "code",
        "outputId": "4d42a15f-f9b4-417e-e77b-558f541642dd",
        "colab": {
          "base_uri": "https://localhost:8080/",
          "height": 608
        }
      },
      "source": [
        "dataframe.head()"
      ],
      "execution_count": 0,
      "outputs": [
        {
          "output_type": "execute_result",
          "data": {
            "text/html": [
              "<div>\n",
              "<style scoped>\n",
              "    .dataframe tbody tr th:only-of-type {\n",
              "        vertical-align: middle;\n",
              "    }\n",
              "\n",
              "    .dataframe tbody tr th {\n",
              "        vertical-align: top;\n",
              "    }\n",
              "\n",
              "    .dataframe thead th {\n",
              "        text-align: right;\n",
              "    }\n",
              "</style>\n",
              "<table border=\"1\" class=\"dataframe\">\n",
              "  <thead>\n",
              "    <tr style=\"text-align: right;\">\n",
              "      <th></th>\n",
              "      <th>path</th>\n",
              "      <th>raw</th>\n",
              "      <th>name</th>\n",
              "      <th>raw_title</th>\n",
              "      <th>gender</th>\n",
              "      <th>start_pos</th>\n",
              "      <th>title</th>\n",
              "      <th>URI</th>\n",
              "      <th>bio</th>\n",
              "    </tr>\n",
              "  </thead>\n",
              "  <tbody>\n",
              "    <tr>\n",
              "      <th>0</th>\n",
              "      <td>crawl-data/CC-MAIN-2013-20/segments/1368696381...</td>\n",
              "      <td>* Nora Fisher Onar is an assistant professor o...</td>\n",
              "      <td>(Nora, Fisher, Onar)</td>\n",
              "      <td>assistant professor</td>\n",
              "      <td>F</td>\n",
              "      <td>109</td>\n",
              "      <td>professor</td>\n",
              "      <td>http://acturca.wordpress.com/2012/04/13/turkey...</td>\n",
              "      <td>_ is also a Ronald D. Asmus Policy Entrepreneu...</td>\n",
              "    </tr>\n",
              "    <tr>\n",
              "      <th>1</th>\n",
              "      <td>crawl-data/CC-MAIN-2013-20/segments/1368696381...</td>\n",
              "      <td>Brent Wagner is a certified public accountant ...</td>\n",
              "      <td>(Brent, , Wagner)</td>\n",
              "      <td>certified public accountant</td>\n",
              "      <td>M</td>\n",
              "      <td>124</td>\n",
              "      <td>accountant</td>\n",
              "      <td>http://www.forwardtheater.com/about/board</td>\n",
              "      <td>_ is a member of the AICPA and WICPA. _ gradua...</td>\n",
              "    </tr>\n",
              "    <tr>\n",
              "      <th>2</th>\n",
              "      <td>crawl-data/CC-MAIN-2013-20/segments/1368696381...</td>\n",
              "      <td>Dr. Shawn Zelig Aster is an assistant professo...</td>\n",
              "      <td>(Shawn, Zelig, Aster)</td>\n",
              "      <td>assistant professor</td>\n",
              "      <td>M</td>\n",
              "      <td>79</td>\n",
              "      <td>professor</td>\n",
              "      <td>http://www.ou.org/torah/1416</td>\n",
              "      <td>Dr. _ has held teaching and research positions...</td>\n",
              "    </tr>\n",
              "    <tr>\n",
              "      <th>3</th>\n",
              "      <td>crawl-data/CC-MAIN-2013-20/segments/1368696381...</td>\n",
              "      <td>Brittany McCandless is a journalist with a pri...</td>\n",
              "      <td>(Brittany, , McCandless)</td>\n",
              "      <td>journalist</td>\n",
              "      <td>F</td>\n",
              "      <td>74</td>\n",
              "      <td>journalist</td>\n",
              "      <td>http://morevoices.tumblr.com/</td>\n",
              "      <td>_ currently works on CNN’s newest primetime sh...</td>\n",
              "    </tr>\n",
              "    <tr>\n",
              "      <th>4</th>\n",
              "      <td>crawl-data/CC-MAIN-2013-20/segments/1368696381...</td>\n",
              "      <td>Arturo Toledo is an Architect. He runs a bouti...</td>\n",
              "      <td>(Arturo, , Toledo)</td>\n",
              "      <td>Architect</td>\n",
              "      <td>M</td>\n",
              "      <td>30</td>\n",
              "      <td>architect</td>\n",
              "      <td>http://diggthedrazen.com/author/diggthedrazen/</td>\n",
              "      <td>_ runs a boutique design studio attending clie...</td>\n",
              "    </tr>\n",
              "  </tbody>\n",
              "</table>\n",
              "</div>"
            ],
            "text/plain": [
              "                                                path  ...                                                bio\n",
              "0  crawl-data/CC-MAIN-2013-20/segments/1368696381...  ...  _ is also a Ronald D. Asmus Policy Entrepreneu...\n",
              "1  crawl-data/CC-MAIN-2013-20/segments/1368696381...  ...  _ is a member of the AICPA and WICPA. _ gradua...\n",
              "2  crawl-data/CC-MAIN-2013-20/segments/1368696381...  ...  Dr. _ has held teaching and research positions...\n",
              "3  crawl-data/CC-MAIN-2013-20/segments/1368696381...  ...  _ currently works on CNN’s newest primetime sh...\n",
              "4  crawl-data/CC-MAIN-2013-20/segments/1368696381...  ...  _ runs a boutique design studio attending clie...\n",
              "\n",
              "[5 rows x 9 columns]"
            ]
          },
          "metadata": {
            "tags": []
          },
          "execution_count": 37
        }
      ]
    },
    {
      "cell_type": "code",
      "metadata": {
        "id": "qTBwZlxYnU6V",
        "colab_type": "code",
        "colab": {}
      },
      "source": [
        "import tensorflow as tf"
      ],
      "execution_count": 0,
      "outputs": []
    },
    {
      "cell_type": "code",
      "metadata": {
        "id": "doXJs-8wi21r",
        "colab_type": "code",
        "colab": {}
      },
      "source": [
        "import os\n",
        "import numpy as np\n",
        "import pandas as pd\n",
        "from torch.utils.data import random_split\n",
        "from torch.utils.data import DataLoader\n",
        "from tqdm import tqdm_notebook\n"
      ],
      "execution_count": 0,
      "outputs": []
    },
    {
      "cell_type": "code",
      "metadata": {
        "id": "Az6y5qswAb_r",
        "colab_type": "code",
        "outputId": "bd9fa1de-d4ba-4a75-dd64-abd9f43d017c",
        "colab": {
          "base_uri": "https://localhost:8080/",
          "height": 34
        }
      },
      "source": [
        "import torch\n",
        "print(torch.cuda.current_device())\n"
      ],
      "execution_count": 0,
      "outputs": [
        {
          "output_type": "stream",
          "text": [
            "0\n"
          ],
          "name": "stdout"
        }
      ]
    },
    {
      "cell_type": "code",
      "metadata": {
        "id": "t21PCuYhBExm",
        "colab_type": "code",
        "colab": {}
      },
      "source": [
        "import pandas as pd\n",
        "import numpy as np"
      ],
      "execution_count": 0,
      "outputs": []
    },
    {
      "cell_type": "code",
      "metadata": {
        "id": "CanEbhOiLxkp",
        "colab_type": "code",
        "colab": {}
      },
      "source": [
        "import re\n",
        "import spacy\n",
        "NLP = spacy.load('en')\n",
        "MAX_CHARS = 20000\n",
        "def tokenizer(comment):\n",
        "    comment = re.sub(\n",
        "        r\"[\\*\\\"“”\\n\\\\…\\+\\-\\/\\=\\(\\)‘•:\\[\\]\\|’\\!;]\", \" \", \n",
        "        str(comment))\n",
        "    comment = re.sub(r\"[ ]+\", \" \", comment)\n",
        "    comment = re.sub(r\"\\!+\", \"!\", comment)\n",
        "    comment = re.sub(r\"\\,+\", \",\", comment)\n",
        "    comment = re.sub(r\"\\?+\", \"?\", comment)\n",
        "    if (len(comment) > MAX_CHARS):\n",
        "        comment = comment[:MAX_CHARS]\n",
        "    return [\n",
        "        x.text for x in NLP.tokenizer(comment) if x.text != \" \"]"
      ],
      "execution_count": 0,
      "outputs": []
    },
    {
      "cell_type": "code",
      "metadata": {
        "id": "np8sjIz_Pu-s",
        "colab_type": "code",
        "colab": {}
      },
      "source": [
        ""
      ],
      "execution_count": 0,
      "outputs": []
    }
  ]
}