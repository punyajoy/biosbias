{
 "cells": [
  {
   "cell_type": "code",
   "execution_count": null,
   "metadata": {},
   "outputs": [],
   "source": [
    "import pandas as pd"
   ]
  },
  {
   "cell_type": "code",
   "execution_count": null,
   "metadata": {},
   "outputs": [],
   "source": [
    "df = pd.read_csv('Data/Test.csv')"
   ]
  },
  {
   "cell_type": "code",
   "execution_count": 13,
   "metadata": {},
   "outputs": [
    {
     "data": {
      "text/plain": [
       "{'path': {0: 'crawl-data/CC-MAIN-2018-13/segments/1521257645405.20/wet/CC-MAIN-20180317233618-20180318013618-00118.warc.wet.gz',\n",
       "  1: 'crawl-data/CC-MAIN-2018-05/segments/1516084886437.0/wet/CC-MAIN-20180116144951-20180116164951-00305.warc.wet.gz',\n",
       "  2: 'crawl-data/CC-MAIN-2013-20/segments/1368696382851/wet/CC-MAIN-20130516092622-00024-ip-10-60-113-184.ec2.internal.warc.wet.gz',\n",
       "  3: 'crawl-data/CC-MAIN-2018-13/segments/1521257646602.39/wet/CC-MAIN-20180319062143-20180319082143-00444.warc.wet.gz',\n",
       "  4: 'crawl-data/CC-MAIN-2018-05/segments/1516084886792.7/wet/CC-MAIN-20180117003801-20180117023801-00277.warc.wet.gz'},\n",
       " 'raw': {0: 'Edward Paulino is an assistant professor in the department of history at CUNY’s John Jay College. He teaches a variety of classes from global history to the history of genocide. He specializes in the 1937 Haitian Massacre and has a manuscript under review on the role of the Dominican state in creating a racial border against Haiti. He is a member of the International Association of Genocide Scholars and is a member of the John Jay Human Rights minor. He is the co-organizer of the www.borderoflights.org which was founded to commemorate the 75th anniversary of the 1937 Haitian Massacre by remembering the 20,000 men, women, and children that were murdered by the Dominican dictator Rafael Trujillo.',\n",
       "  1: 'Landry Smith (AIA, NCARB) is a licensed architect who teaches at the University of Oregon. He received both his bachelor’s degree and Master of Architecture from Princeton University where he was awarded the Butler Traveling Fellowship and the Suzanne Kolarik Underwood Thesis Prize. Prior to Oregon he taught studios at the University at Buffalo, the New Jersey Institute of Technology, and Parsons School of Design.',\n",
       "  2: 'Marisa Krempler is a third-grade teacher who has just bought her first place in Boca Raton, Fla. She lives life at full throttle, so she wants her home to be a peaceful retreat. Designer Franzella Guido plans to create a Zen den to help this dynamo chill out.',\n",
       "  3: 'Biography: Larry Goves is a composer based in Manchester. He has written for numerous ensembles, had music broadcast around the world (including BBC Radio 3, BBC Radio 6 Music, New Zealand’s Concert FM and New York’s WQZR) and released on NMC, Dutton Epoch, The London Sinfonietta’s Jerwood Series, Nonclassical, Slip Discs and PRAH. He is a tutor in composition and academic studies at the Royal Northern College of Music, runs the National Youth Orchestra of Great Britain composition course and was the former composer in residence at Royal Holloway, University of London.',\n",
       "  4: 'Dr. Steven Leon is a neurosurgeon in East Patchogue, New York and is affiliated with multiple hospitals in the area, including Brookhaven Memorial Hospital Medical Center and Southside Hospital. He received his medical degree from Harvard Medical School and has been in practice for 21 years. He is one of 5 doctors at Brookhaven Memorial Hospital Medical Center and one of 9 at Southside Hospital who specialize in Neurological Surgery.'},\n",
       " 'name': {0: \"('Edward', '', 'Paulino')\",\n",
       "  1: \"('Landry', '', 'Smith')\",\n",
       "  2: \"('Marisa', '', 'Krempler')\",\n",
       "  3: \"('Larry', '', 'Goves')\",\n",
       "  4: \"('Steven', '', 'Leon')\"},\n",
       " 'raw_title': {0: 'assistant professor',\n",
       "  1: 'architect',\n",
       "  2: 'teacher',\n",
       "  3: 'composer',\n",
       "  4: 'neurosurgeon'},\n",
       " 'gender': {0: 'M', 1: 'M', 2: 'F', 3: 'M', 4: 'M'},\n",
       " 'start_pos': {0: 97, 1: 90, 2: 96, 3: 57, 4: 194},\n",
       " 'title': {0: 'professor',\n",
       "  1: 'architect',\n",
       "  2: 'teacher',\n",
       "  3: 'composer',\n",
       "  4: 'surgeon'},\n",
       " 'URI': {0: 'http://johnjayresearch.org/cihr/human-rights-minor/edward-paulino/',\n",
       "  1: 'https://hopes.uoregon.edu/speakers-archive/',\n",
       "  2: 'http://www.hgtv.com/my-first-place/den-gets-zen/index.html',\n",
       "  3: 'https://www.birmingham.ac.uk/schools/lcahm/departments/music/events/2015/rma-2015-abstracts.aspx',\n",
       "  4: 'http://medical.uou.ch/doctor/dr-keri-peterson-md/'},\n",
       " 'bio': {0: '_ teaches a variety of classes from global history to the history of genocide. _ specializes in the 1937 Haitian Massacre and has a manuscript under review on the role of the Dominican state in creating a racial border against Haiti. _ is a member of the International Association of Genocide Scholars and is a member of the John Jay Human Rights minor. _ is the co-organizer of the www.borderoflights.org which was founded to commemorate the 75th anniversary of the 1937 Haitian Massacre by remembering the 20,000 men, women, and children that were murdered by the Dominican dictator Rafael Trujillo.',\n",
       "  1: '_ received both _ bachelor’s degree and Master of Architecture from Princeton University where _ was awarded the Butler Traveling Fellowship and the Suzanne Kolarik Underwood Thesis Prize. Prior to Oregon _ taught studios at the University at Buffalo, the New Jersey Institute of Technology, and Parsons School of Design.',\n",
       "  2: '_ lives life at full throttle, so _ wants _ home to be a peaceful retreat. Designer Franzella Guido plans to create a Zen den to help this dynamo chill out.',\n",
       "  3: '_ has written for numerous ensembles, had music broadcast around the world (including BBC Radio 3, BBC Radio 6 Music, New Zealand’s Concert FM and New York’s WQZR) and released on NMC, Dutton Epoch, The London Sinfonietta’s Jerwood Series, Nonclassical, Slip Discs and PRAH. _ is a tutor in composition and academic studies at the Royal Northern College of Music, runs the National Youth Orchestra of Great Britain composition course and was the former composer in residence at Royal Holloway, University of London.',\n",
       "  4: '_ received _ medical degree from Harvard Medical School and has been in practice for 21 years. _ is one of 5 doctors at Brookhaven Memorial Hospital Medical Center and one of 9 at Southside Hospital who specialize in Neurological Surgery.'}}"
      ]
     },
     "execution_count": 13,
     "metadata": {},
     "output_type": "execute_result"
    }
   ],
   "source": [
    "df.head().to_dict()\n"
   ]
  },
  {
   "cell_type": "code",
   "execution_count": null,
   "metadata": {},
   "outputs": [],
   "source": [
    "dummy_output = []\n",
    "\n",
    "new_df = df[['gender', 'title']]"
   ]
  },
  {
   "cell_type": "code",
   "execution_count": 18,
   "metadata": {},
   "outputs": [],
   "source": [
    "title_list = new_df['title'].unique().tolist()"
   ]
  },
  {
   "cell_type": "code",
   "execution_count": 31,
   "metadata": {},
   "outputs": [],
   "source": [
    "total_count = new_df['gender'].count()\n"
   ]
  },
  {
   "cell_type": "code",
   "execution_count": 28,
   "metadata": {},
   "outputs": [
    {
     "data": {
      "text/plain": [
       "20841"
      ]
     },
     "execution_count": 28,
     "metadata": {},
     "output_type": "execute_result"
    }
   ],
   "source": []
  },
  {
   "cell_type": "code",
   "execution_count": 25,
   "metadata": {},
   "outputs": [],
   "source": [
    "from random import choice"
   ]
  },
  {
   "cell_type": "code",
   "execution_count": 32,
   "metadata": {},
   "outputs": [
    {
     "name": "stderr",
     "output_type": "stream",
     "text": [
      "/home/punyajoy/.conda/envs/aiethics/lib/python3.7/site-packages/ipykernel_launcher.py:1: SettingWithCopyWarning: \n",
      "A value is trying to be set on a copy of a slice from a DataFrame.\n",
      "Try using .loc[row_indexer,col_indexer] = value instead\n",
      "\n",
      "See the caveats in the documentation: https://pandas.pydata.org/pandas-docs/stable/user_guide/indexing.html#returning-a-view-versus-a-copy\n",
      "  \"\"\"Entry point for launching an IPython kernel.\n"
     ]
    }
   ],
   "source": [
    "new_df['pred_title'] = [choice(title_list) for _ in range(total_count)]"
   ]
  },
  {
   "cell_type": "code",
   "execution_count": 33,
   "metadata": {},
   "outputs": [
    {
     "data": {
      "text/html": [
       "<div>\n",
       "<style scoped>\n",
       "    .dataframe tbody tr th:only-of-type {\n",
       "        vertical-align: middle;\n",
       "    }\n",
       "\n",
       "    .dataframe tbody tr th {\n",
       "        vertical-align: top;\n",
       "    }\n",
       "\n",
       "    .dataframe thead th {\n",
       "        text-align: right;\n",
       "    }\n",
       "</style>\n",
       "<table border=\"1\" class=\"dataframe\">\n",
       "  <thead>\n",
       "    <tr style=\"text-align: right;\">\n",
       "      <th></th>\n",
       "      <th>gender</th>\n",
       "      <th>title</th>\n",
       "      <th>pred_title</th>\n",
       "    </tr>\n",
       "  </thead>\n",
       "  <tbody>\n",
       "    <tr>\n",
       "      <th>0</th>\n",
       "      <td>M</td>\n",
       "      <td>professor</td>\n",
       "      <td>photographer</td>\n",
       "    </tr>\n",
       "    <tr>\n",
       "      <th>1</th>\n",
       "      <td>M</td>\n",
       "      <td>architect</td>\n",
       "      <td>attorney</td>\n",
       "    </tr>\n",
       "    <tr>\n",
       "      <th>2</th>\n",
       "      <td>F</td>\n",
       "      <td>teacher</td>\n",
       "      <td>attorney</td>\n",
       "    </tr>\n",
       "    <tr>\n",
       "      <th>3</th>\n",
       "      <td>M</td>\n",
       "      <td>composer</td>\n",
       "      <td>pastor</td>\n",
       "    </tr>\n",
       "    <tr>\n",
       "      <th>4</th>\n",
       "      <td>M</td>\n",
       "      <td>surgeon</td>\n",
       "      <td>paralegal</td>\n",
       "    </tr>\n",
       "  </tbody>\n",
       "</table>\n",
       "</div>"
      ],
      "text/plain": [
       "  gender      title    pred_title\n",
       "0      M  professor  photographer\n",
       "1      M  architect      attorney\n",
       "2      F    teacher      attorney\n",
       "3      M   composer        pastor\n",
       "4      M    surgeon     paralegal"
      ]
     },
     "execution_count": 33,
     "metadata": {},
     "output_type": "execute_result"
    }
   ],
   "source": [
    "new_df.head()"
   ]
  },
  {
   "cell_type": "code",
   "execution_count": 41,
   "metadata": {},
   "outputs": [
    {
     "data": {
      "text/plain": [
       "341"
      ]
     },
     "execution_count": 41,
     "metadata": {},
     "output_type": "execute_result"
    }
   ],
   "source": [
    "new_df[(new_df.gender == 'M') & (new_df.title == 'teacher')]['title'].count()"
   ]
  },
  {
   "cell_type": "code",
   "execution_count": 57,
   "metadata": {},
   "outputs": [],
   "source": [
    "def calculate_gap(gender, title, df):\n",
    "    n_gender = None\n",
    "    if gender == 'M':\n",
    "        n_gender = 'F'\n",
    "    elif gender == 'F':\n",
    "        n_gender = 'M'\n",
    "    else:\n",
    "        exit()\n",
    "    \n",
    "    tmp_df = df[df.title == title]\n",
    "    N_g = tmp_df[tmp_df.gender == gender]['title'].count()\n",
    "    N_ng = tmp_df[tmp_df.gender == n_gender]['title'].count()\n",
    "    g_TP = tmp_df[(tmp_df.pred_title == title)  & (tmp_df.gender == gender)]['title'].count()\n",
    "    ng_TP = tmp_df[(tmp_df.pred_title == title)  & (tmp_df.gender == n_gender)]['title'].count()\n",
    "    \n",
    "    Gap = g_TP/float(N_g) - (ng_TP / float(N_ng))\n",
    "    return Gap\n",
    "    \n",
    "        "
   ]
  },
  {
   "cell_type": "code",
   "execution_count": 59,
   "metadata": {},
   "outputs": [],
   "source": [
    "def calculate_pigy(gender, title, df):\n",
    "    tmp_df = df[df.title == title]\n",
    "    N = tmp_df['title'].count()\n",
    "    N_g = tmp_df[tmp_df.gender ==  gender]['title'].count()\n",
    "    \n",
    "    return N_g / float(N)"
   ]
  },
  {
   "cell_type": "code",
   "execution_count": 61,
   "metadata": {},
   "outputs": [
    {
     "name": "stdout",
     "output_type": "stream",
     "text": [
      "0.005367580288084206\n",
      "0.5613840830449827\n"
     ]
    }
   ],
   "source": [
    "print(calculate_gap('M', 'professor', new_df))\n",
    "print(calculate_pigy('M', 'professor', new_df))"
   ]
  },
  {
   "cell_type": "code",
   "execution_count": 55,
   "metadata": {},
   "outputs": [],
   "source": [
    "%matplotlib inline\n",
    "import matplotlib\n",
    "import matplotlib.pyplot as plt\n",
    "\n",
    "\n"
   ]
  },
  {
   "cell_type": "code",
   "execution_count": null,
   "metadata": {},
   "outputs": [],
   "source": [
    "title_list"
   ]
  },
  {
   "cell_type": "code",
   "execution_count": null,
   "metadata": {},
   "outputs": [],
   "source": []
  }
 ],
 "metadata": {
  "kernelspec": {
   "display_name": "Python [conda env:.conda-aiethics]",
   "language": "python",
   "name": "conda-env-.conda-aiethics-py"
  },
  "language_info": {
   "codemirror_mode": {
    "name": "ipython",
    "version": 3
   },
   "file_extension": ".py",
   "mimetype": "text/x-python",
   "name": "python",
   "nbconvert_exporter": "python",
   "pygments_lexer": "ipython3",
   "version": "3.7.6"
  }
 },
 "nbformat": 4,
 "nbformat_minor": 2
}
